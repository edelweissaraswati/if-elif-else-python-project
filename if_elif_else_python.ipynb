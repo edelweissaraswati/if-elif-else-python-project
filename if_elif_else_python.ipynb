{
  "cells": [
    {
      "cell_type": "markdown",
      "id": "39bf7b14",
      "metadata": {
        "id": "39bf7b14"
      },
      "source": [
        "## Buatlah sebuah program yang:\n",
        "\n",
        "   1. Meminta input dari pengguna:\n",
        "\n",
        "       - Nama mahasiswa\n",
        "\n",
        "       - NIM mahasiswa\n",
        "\n",
        "       - Nilai ujian (dalam angka, 0–100)\n",
        "\n",
        "   2. Cek dan tampilkan tipe data dari setiap input.\n",
        "\n",
        "   3. Gunakan if-elif-else untuk menentukan kategori nilai, dengan kriteria sebagai berikut:\n",
        "   \n",
        "```\n",
        "Nilai | Kategori\n",
        "85 - 100 | A (Sangat Baik)\n",
        "75 - 84 | B (Baik)\n",
        "60 - 74 | C (Cukup)\n",
        "40 - 59 | D (Kurang)\n",
        "< 40 | E (Sangat Kurang)\n",
        "```\n",
        "\n",
        "```\n",
        "==== Ekspektasi Output Jawaban : =====\n",
        "Masukkan nama mahasiswa: Sarah\n",
        "Masukkan NIM: 12345678\n",
        "Masukkan nilai ujian (0-100): 81\n",
        "\n",
        "Nama: Sarah (type: <class 'str'>)\n",
        "NIM: 12345678 (type: <class 'str'>)\n",
        "Nilai: 81 (type: <class 'int'>)\n",
        "\n",
        "Hasil Evaluasi:\n",
        "Mahasiswa: Sarah (NIM: 12345678)\n",
        "Nilai Ujian: 81\n",
        "Kategori Nilai: B (Baik)\n",
        "```"
      ]
    },
    {
      "cell_type": "code",
      "execution_count": null,
      "id": "e2ab644c",
      "metadata": {
        "id": "e2ab644c",
        "colab": {
          "base_uri": "https://localhost:8080/"
        },
        "outputId": "f8dbf451-796e-4a04-ebca-c57cca9afc80"
      },
      "outputs": [
        {
          "output_type": "stream",
          "name": "stdout",
          "text": [
            "Masukkan nama anda: Sarah\n",
            "Masukkan NIM anda: 12345678\n",
            "Masukkan nilai ujian (0-100): 81\n",
            "<class 'str'>\n",
            "<class 'str'>\n",
            "<class 'int'>\n",
            "Hasil Evaluasi: \n",
            "B (Baik)\n"
          ]
        }
      ],
      "source": [
        "nama_mahasiswa = input(\"Masukkan nama anda: \")\n",
        "nim_mahasiswa = input(\"Masukkan NIM anda: \")\n",
        "nilai_ujian = int(input(\"Masukkan nilai ujian (0-100): \"))\n",
        "\n",
        "print(type(nama_mahasiswa))\n",
        "print(type(nim_mahasiswa))\n",
        "print(type(nilai_ujian))\n",
        "\n",
        "print(\"Hasil Evaluasi: \")\n",
        "nilai = int(nilai_ujian)\n",
        "if nilai >= 85:\n",
        "  print(\"A (Sangat baik)\")\n",
        "elif nilai >= 75:\n",
        "  print(\"B (Baik)\")\n",
        "elif nilai >= 60:\n",
        "  print(\"C (Cukup)\")\n",
        "elif nilai >= 40:\n",
        "  print(\"D (Kurang)\")\n",
        "else:\n",
        "  print(\"E (Sangat kurang)\")"
      ]
    }
  ],
  "metadata": {
    "kernelspec": {
      "display_name": "Python 3 (ipykernel)",
      "language": "python",
      "name": "python3"
    },
    "language_info": {
      "codemirror_mode": {
        "name": "ipython",
        "version": 3
      },
      "file_extension": ".py",
      "mimetype": "text/x-python",
      "name": "python",
      "nbconvert_exporter": "python",
      "pygments_lexer": "ipython3",
      "version": "3.11.4"
    },
    "colab": {
      "provenance": []
    }
  },
  "nbformat": 4,
  "nbformat_minor": 5
}